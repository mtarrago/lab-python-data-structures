{
 "cells": [
  {
   "cell_type": "markdown",
   "metadata": {
    "tags": []
   },
   "source": [
    "# Lab | Data Structures "
   ]
  },
  {
   "cell_type": "markdown",
   "metadata": {},
   "source": [
    "## Exercise: Managing Customer Orders\n",
    "\n",
    "As part of a business venture, you are starting an online store that sells various products. To ensure smooth operations, you need to develop a program that manages customer orders and inventory.\n",
    "\n",
    "Follow the steps below to complete the exercise:\n",
    "\n",
    "1. Define a list called `products` that contains the following items: \"t-shirt\", \"mug\", \"hat\", \"book\", \"keychain\".\n",
    "\n",
    "2. Create an empty dictionary called `inventory`.\n",
    "\n",
    "3. Ask the user to input the quantity of each product available in the inventory. Use the product names from the `products` list as keys in the `inventory` dictionary and assign the respective quantities as values.\n",
    "\n",
    "4. Create an empty set called `customer_orders`.\n",
    "\n",
    "5. Ask the user to input the name of three products that a customer wants to order (from those in the products list, meaning three products out of \"t-shirt\", \"mug\", \"hat\", \"book\" or \"keychain\". Add each product name to the `customer_orders` set.\n",
    "\n",
    "6. Print the products in the `customer_orders` set.\n",
    "\n",
    "7. Calculate the following order statistics:\n",
    "   - Total Products Ordered: The total number of products in the `customer_orders` set.\n",
    "   - Percentage of Products Ordered: The percentage of products ordered compared to the total available products.\n",
    "   \n",
    "   Store these statistics in a tuple called `order_status`.\n",
    "\n",
    "8. Print the order statistics using the following format:\n",
    "   ```\n",
    "   Order Statistics:\n",
    "   Total Products Ordered: <total_products_ordered>\n",
    "   Percentage of Products Ordered: <percentage_ordered>% \n",
    "   ```\n",
    "\n",
    "9. Update the inventory by subtracting 1 from the quantity of each product. Modify the `inventory` dictionary accordingly.\n",
    "\n",
    "10. Print the updated inventory, displaying the quantity of each product on separate lines.\n",
    "\n",
    "Solve the exercise by implementing the steps using the Python concepts of lists, dictionaries, sets, and basic input/output operations. "
   ]
  },
  {
   "cell_type": "code",
   "execution_count": 32,
   "metadata": {},
   "outputs": [
    {
     "name": "stdout",
     "output_type": "stream",
     "text": [
      "Enter the number of t-shirts: 10\n",
      "Enter the number of mugs: 9\n",
      "Enter the number of hats: 8\n",
      "Enter the number of books: 7\n",
      "Enter the number of keychains: 6\n",
      "Enter the 1st requested item: keychain\n",
      "Enter the 2nd requested item: book\n",
      "Enter the 3rd requested item: mug\n"
     ]
    }
   ],
   "source": [
    "products = [\"t-shirt\",\"mug\",\"hat\",\"book\",\"keychain\"]\n",
    "inventory = {}\n",
    "\n",
    "inventory[\"t-shirt\"] = int(input(\"Enter the number of t-shirts: \"))\n",
    "inventory[\"mug\"] = int(input(\"Enter the number of mugs: \"))\n",
    "inventory[\"hat\"] = int(input(\"Enter the number of hats: \"))\n",
    "inventory[\"book\"] = int(input(\"Enter the number of books: \"))\n",
    "inventory[\"keychain\"] = int(input(\"Enter the number of keychains: \"))\n",
    "\n",
    "customer_orders = set()\n",
    "customer_orders.add(input(\"Enter the 1st requested item: \"))\n",
    "customer_orders.add(input(\"Enter the 2nd requested item: \"))\n",
    "customer_orders.add(input(\"Enter the 3rd requested item: \"))\n"
   ]
  },
  {
   "cell_type": "code",
   "execution_count": 33,
   "metadata": {},
   "outputs": [
    {
     "name": "stdout",
     "output_type": "stream",
     "text": [
      "The customer has ordered {'mug', 'keychain', 'book'}\n",
      "Order Statistics:\n",
      "Total Products Ordered: 3\n",
      "Percentage of Products Ordered: 60.0%\n",
      "Updated inventory:\n",
      "t-shirt: 9\n",
      "mug: 8\n",
      "hat: 7\n",
      "book: 6\n",
      "keychain: 5\n"
     ]
    }
   ],
   "source": [
    "TOP = len(customer_orders)\n",
    "POP = len(customer_orders)*100/len(products)\n",
    "\n",
    "print(f\"The customer has ordered {customer_orders}\")\n",
    "\n",
    "\n",
    "#print(f\"Total ordered products: {TOP}\")\n",
    "#print(f\"Percentage ordered products: {POP}\")\n",
    "\n",
    "print(\"Order Statistics:\")\n",
    "print(f\"Total Products Ordered: {TOP}\")\n",
    "print(f\"Percentage of Products Ordered: {POP}%\") \n",
    "\n",
    "order_status = (TOP, POP)\n",
    "\n",
    "inventory[\"t-shirt\"] = inventory[\"t-shirt\"] - 1\n",
    "inventory[\"mug\"] = inventory[\"mug\"] - 1 \n",
    "inventory[\"hat\"] = inventory[\"hat\"] - 1 \n",
    "inventory[\"book\"] = inventory[\"book\"]- 1 \n",
    "inventory[\"keychain\"] = inventory[\"keychain\"] - 1 \n",
    "\n",
    "print(\"Updated inventory:\")\n",
    "print(f\"t-shirt: {inventory.get('t-shirt')}\")\n",
    "print(f\"mug: {inventory.get('mug')}\")\n",
    "print(f\"hat: {inventory.get('hat')}\")\n",
    "print(f\"book: {inventory.get('book')}\")\n",
    "print(f\"keychain: {inventory.get('keychain')}\")"
   ]
  },
  {
   "cell_type": "code",
   "execution_count": 8,
   "metadata": {},
   "outputs": [
    {
     "data": {
      "text/plain": [
       "tuple"
      ]
     },
     "execution_count": 8,
     "metadata": {},
     "output_type": "execute_result"
    }
   ],
   "source": []
  },
  {
   "cell_type": "code",
   "execution_count": null,
   "metadata": {},
   "outputs": [],
   "source": []
  }
 ],
 "metadata": {
  "kernelspec": {
   "display_name": "Python 3",
   "language": "python",
   "name": "python3"
  },
  "language_info": {
   "codemirror_mode": {
    "name": "ipython",
    "version": 3
   },
   "file_extension": ".py",
   "mimetype": "text/x-python",
   "name": "python",
   "nbconvert_exporter": "python",
   "pygments_lexer": "ipython3",
   "version": "3.7.6"
  }
 },
 "nbformat": 4,
 "nbformat_minor": 4
}
